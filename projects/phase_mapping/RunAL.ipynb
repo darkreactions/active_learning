{
 "cells": [
  {
   "cell_type": "code",
   "execution_count": null,
   "metadata": {},
   "outputs": [],
   "source": [
    "import numpy as np\n",
    "import pandas as pd\n",
    "from sklearn.datasets import make_blobs, make_classification\n",
    "from sklearn.preprocessing import StandardScaler\n",
    "from modAL.models import ActiveLearner\n",
    "from modAL.uncertainty import entropy_sampling\n",
    "from modAL.batch import uncertainty_batch_sampling\n",
    "from modAL.uncertainty import classifier_uncertainty, classifier_margin, classifier_entropy, entropy_sampling\n",
    "from modAL.models import Committee\n",
    "from modAL.disagreement import vote_entropy_sampling\n",
    "from Models import models, plot, sampling\n",
    "from Data import datasets\n",
    "import matplotlib.pyplot as plt\n",
    "import matplotlib.animation as animation\n",
    "from mpl_toolkits.mplot3d import Axes3D"
   ]
  },
  {
   "cell_type": "markdown",
   "metadata": {},
   "source": [
    "Import experiment data"
   ]
  },
  {
   "cell_type": "code",
   "execution_count": null,
   "metadata": {},
   "outputs": [],
   "source": [
    "# Show all ammonium iodide studied\n",
    "print(datasets.Amine_done)\n",
    "\n",
    "# import experiment data and select ammonium iodide type\n",
    "df_ammonium = datasets.df_dict['Ethylammonium Iodide']\n",
    "#########################################################\n",
    "\n",
    "# Generate input, output dataframe\n",
    "X = df_ammonium.drop(['RunID_vial', '_out_crystalscore',\\\n",
    "             '_raw_acid_0_inchikey', '_raw_inorganic_0_inchikey',\\\n",
    "             '_raw_organic_0_inchikey', '_raw_solvent_0_inchikey'], axis =1)\n",
    "y = df_ammonium.filter(['_out_crystalscore'], axis =1)\n",
    "\n",
    "# Standarize the input\n",
    "x = StandardScaler().fit_transform(X) # dataframe turned into array and it is reformed as dataframe in the below line\n",
    "X = pd.DataFrame(x, index = X.index, columns = X.columns)\n",
    "# y = (y.replace([1,2,3],0)).replace(4,1) # turned into binary classification\n",
    "\n",
    "# select intial training pool and testing pool\n",
    "init_idx = np.random.choice(np.array(X.index), size=24)\n",
    "\n",
    "# It is complicated to directly feed pd.Dataframe to Modal.Activelearner \n",
    "# because the index of dataframe is kept the same after dropping off query instances\n",
    "# So I think it is easy to just convert them back to np.array and we can retrieve column label afterward\n",
    "X_training = np.array(X.filter(init_idx, axis = 0))\n",
    "y_training = np.array(y.filter(init_idx, axis = 0))\n",
    "y_training = y_training.reshape(len(y_training),)\n",
    "X_test = np.array(X.drop(init_idx, axis = 0))\n",
    "y_test = np.array(y.drop(init_idx, axis = 0))\n",
    "y_test = y_test.reshape(len(y_test),)"
   ]
  },
  {
   "cell_type": "markdown",
   "metadata": {},
   "source": [
    "Import synthetic data"
   ]
  },
  {
   "cell_type": "code",
   "execution_count": null,
   "metadata": {},
   "outputs": [],
   "source": [
    "## import synthetic data\n",
    "X = datasets.X_syn1\n",
    "y = datasets.y_syn1\n",
    "## generate initial training and testing pool\n",
    "init_idx = np.random.choice(np.array(len(X)), size=5)\n",
    "X_training, y_training = X[init_idx], y[init_idx]\n",
    "y_training = y_training.reshape(len(y_training),)\n",
    "X_test, y_test = np.delete(X, init_idx, axis=0), np.delete(y, init_idx)\n",
    "y_test = y_test.reshape(len(y_test),)"
   ]
  },
  {
   "cell_type": "markdown",
   "metadata": {},
   "source": [
    "Estimator choices: ['SVC_rbf', 'SVC_Pearson', 'RF', 'xgboost', 'kNN', 'GPC','GPR']"
   ]
  },
  {
   "cell_type": "code",
   "execution_count": null,
   "metadata": {},
   "outputs": [],
   "source": [
    "## Active learning process\n",
    "# initializing the learner\n",
    "classifier = 'GPR'\n",
    "# custom_query_strategy is based on uncertainty sampling for classification\n",
    "# use regression_std if you are doing regression\n",
    "query_strategy = models.regression_std\n",
    "n_queries = 100\n",
    "n_instances = 1\n",
    "#########################################################\n",
    "learner = ActiveLearner(estimator= models.estimator[classifier],\\\n",
    "                        X_training=X_training, y_training=y_training,\\\n",
    "                        query_strategy = query_strategy)\n",
    "\n",
    "# This function is used to generate learning curve for the active-learner\n",
    "# In each interation of active learning, new training sets are taken from X_test \n",
    "# and moved to X_training. (X,y) are used to generate testing score. \n",
    "train_size, scores = models.actlearn_perf(learner=learner, X=X, y=y, \\\n",
    "                                     X_training=X_training, y_training=y_training, \\\n",
    "                                     X_test=X_test, y_test=y_test, n_queries=n_queries, n_instances=n_instances)"
   ]
  },
  {
   "cell_type": "code",
   "execution_count": null,
   "metadata": {},
   "outputs": [],
   "source": [
    "# Plot learning curve of obove active-learning process\n",
    "fig = plt.figure()\n",
    "ax = fig.add_subplot(111)\n",
    "ax.plot(train_size, scores, 'o-', c = 'black', \\\n",
    "        fillstyle='none', label = 'active-learning')\n",
    "ax.set_ylim(-2,1)\n",
    "ax.legend(loc='best')\n",
    "ax.set_xlabel('Number of training dataset')\n",
    "ax.set_ylabel('Prediciton accuracy')\n",
    "plt.savefig('Graphs/'+'Learning curve of kNN active learner'+'.png')"
   ]
  }
 ],
 "metadata": {
  "kernelspec": {
   "display_name": "Python 3",
   "language": "python",
   "name": "python3"
  },
  "language_info": {
   "codemirror_mode": {
    "name": "ipython",
    "version": 3
   },
   "file_extension": ".py",
   "mimetype": "text/x-python",
   "name": "python",
   "nbconvert_exporter": "python",
   "pygments_lexer": "ipython3",
   "version": "3.6.8"
  }
 },
 "nbformat": 4,
 "nbformat_minor": 2
}
